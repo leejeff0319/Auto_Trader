{
 "cells": [
  {
   "cell_type": "code",
   "execution_count": 1,
   "metadata": {},
   "outputs": [],
   "source": [
    "import re\n",
    "import json\n",
    "import csv\n",
    "from io import StringIO\n",
    "from bs4 import BeautifulStoneSoup\n",
    "import requests"
   ]
  },
  {
   "cell_type": "code",
   "execution_count": null,
   "metadata": {},
   "outputs": [],
   "source": [
    "url_stats ='https://finance.yahoo.com/quote/{}}/key-statistics'\n",
    "url_profile = 'https://finance.yahoo.com/quote/{}/profile'\n",
    "url_financials = 'https://finance.yahoo.com/quote/{}/financials'\n",
    "url_history = 'https://finance.yahoo.com/quote/{}/history'\n",
    "url_news = 'https://finance.yahoo.com/quote/{}/news'"
   ]
  }
 ],
 "metadata": {
  "kernelspec": {
   "display_name": "venv",
   "language": "python",
   "name": "python3"
  },
  "language_info": {
   "codemirror_mode": {
    "name": "ipython",
    "version": 3
   },
   "file_extension": ".py",
   "mimetype": "text/x-python",
   "name": "python",
   "nbconvert_exporter": "python",
   "pygments_lexer": "ipython3",
   "version": "3.11.9"
  }
 },
 "nbformat": 4,
 "nbformat_minor": 2
}
